{
 "cells": [
  {
   "cell_type": "code",
   "execution_count": 11,
   "id": "b9e78e74-188b-40f7-827b-504a2a542dc7",
   "metadata": {},
   "outputs": [
    {
     "name": "stdout",
     "output_type": "stream",
     "text": [
      "+------------+---------------+---+------------------+---------------+---------+--------------------+\n",
      "|duracion_min|    herramienta| id|            premio|presupuesto_usd|      rol|              titulo|\n",
      "+------------+---------------+---+------------------+---------------+---------+--------------------+\n",
      "|          15|  Final Cut Pro|  1|Mejor Cortometraje|           1200| director|     Luz de Invierno|\n",
      "|           8|DaVinci Resolve|  2|              NULL|            500|   editor|      Café y Sombras|\n",
      "|          12|DaVinci Resolve|  3|              NULL|            800|colorista|     El Último Pixel|\n",
      "|          20|    Final Draft|  4|   Guion Destacado|           1500|guionista|     Sueños de Acero|\n",
      "|          10|  Final Cut Pro|  5|              NULL|            900| director|     Ráfaga Nocturna|\n",
      "|           7| Adobe Premiere|  6|              NULL|            400|   editor|          Fragmentos|\n",
      "|          18|  Final Cut Pro|  7| Selección Oficial|           2000| director|      Vértigo Urbano|\n",
      "|          14|          Celtx|  8|              NULL|            600|guionista|Códigos en la Niebla|\n",
      "|           9|  Final Cut Pro|  9|              NULL|            700|   editor|   Latidos Digitales|\n",
      "|          16|    Final Draft| 10|              NULL|           1100|guionista|  Horizonte de Papel|\n",
      "|          22|  Final Cut Pro| 11|Premio del Público|           2500| director|    Caminos Cruzados|\n",
      "|          11| Adobe Premiere| 12|              NULL|            650|   editor|   Ecos del Silencio|\n",
      "|          13|          Celtx| 13|              NULL|            900|guionista|      Bitácora Lunar|\n",
      "|           6|       Motion 5| 14|              NULL|            300| animador|Sombras en Movimi...|\n",
      "|          19|  Final Cut Pro| 15|     Mejor Edición|           1800| director|         Ritmo y Luz|\n",
      "|           8|DaVinci Resolve| 16|              NULL|            550|   editor|     Círculo Abierto|\n",
      "|          17|    Final Draft| 17|              NULL|           1200|guionista|   Voces del Asfalto|\n",
      "|          21|  Final Cut Pro| 18|              NULL|           2100| director|  Laberinto de Ideas|\n",
      "|           5|       Motion 5| 19|              NULL|            250| animador|       Pixel a Pixel|\n",
      "|          12|  Final Cut Pro| 20|              NULL|            800|   editor|    Notas en el Aire|\n",
      "|          14|  Final Cut Pro| 21|              NULL|           1300| director|      Caminos de Luz|\n",
      "|          10|          Celtx| 22|              NULL|            500|guionista|     Guion Invisible|\n",
      "|           9| Adobe Premiere| 23|              NULL|            600|   editor|    Croma y Realidad|\n",
      "|          20|  Final Cut Pro| 24|   Premio Especial|           1700| director|  Rostros del Tiempo|\n",
      "|           7|DaVinci Resolve| 25|              NULL|            450|   editor|   Secuencia Alterna|\n",
      "|          15|    Final Draft| 26|              NULL|           1000|guionista| Guion de Medianoche|\n",
      "|          18|  Final Cut Pro| 27|              NULL|           1600| director|     Luces y Sombras|\n",
      "|           6|       Motion 5| 28|              NULL|            350| animador|     Animación Fugaz|\n",
      "|          13|  Final Cut Pro| 29|              NULL|            900|   editor|         Corte Final|\n",
      "|          11|          Celtx| 30|Mención Honorífica|            700|guionista|  Guion de Esperanza|\n",
      "+------------+---------------+---+------------------+---------------+---------+--------------------+\n",
      "\n",
      "root\n",
      " |-- duracion_min: long (nullable = true)\n",
      " |-- herramienta: string (nullable = true)\n",
      " |-- id: long (nullable = true)\n",
      " |-- premio: string (nullable = true)\n",
      " |-- presupuesto_usd: long (nullable = true)\n",
      " |-- rol: string (nullable = true)\n",
      " |-- titulo: string (nullable = true)\n",
      "\n"
     ]
    }
   ],
   "source": [
    "from pyspark.sql import SparkSession\n",
    "\n",
    "# Crear la sesión de Spark\n",
    "spark = SparkSession.builder.appName(\"filmaking\").getOrCreate()\n",
    "\n",
    "# Leer el archivo JSON\n",
    "film_df = spark.read.json(\"filmaking.json\")\n",
    "\n",
    "# Crear la vista temporal para consultas SQL\n",
    "film_df.createOrReplaceTempView(\"film\")\n",
    "\n",
    "# Mostrar los datos y el esquema\n",
    "film_df.show(30)\n",
    "film_df.printSchema()"
   ]
  },
  {
   "cell_type": "code",
   "execution_count": 15,
   "id": "9d87ce40-edbb-49fc-87cf-c3311287f8aa",
   "metadata": {},
   "outputs": [
    {
     "name": "stdout",
     "output_type": "stream",
     "text": [
      "+--------------------------------------+\n",
      "|proyectos_presupuesto_mayor_a_1000_usd|\n",
      "+--------------------------------------+\n",
      "|                                    11|\n",
      "+--------------------------------------+\n",
      "\n"
     ]
    }
   ],
   "source": [
    "# 1. ¿Cuántos proyectos tienen un presupuesto mayor a $1,000 USD?\n",
    "spark.sql(\"\"\"\n",
    "        SELECT COUNT(*) AS proyectos_presupuesto_mayor_a_1000_usd\n",
    "        FROM film\n",
    "        WHERE presupuesto_usd > 1000\n",
    "        ;\n",
    "\"\"\").show()"
   ]
  },
  {
   "cell_type": "code",
   "execution_count": 16,
   "id": "c1aa0b85-8d14-4adc-a898-5fc74de031ee",
   "metadata": {},
   "outputs": [
    {
     "name": "stdout",
     "output_type": "stream",
     "text": [
      "+--------------------+\n",
      "|              titulo|\n",
      "+--------------------+\n",
      "|Sombras en Movimi...|\n",
      "|       Pixel a Pixel|\n",
      "|     Animación Fugaz|\n",
      "+--------------------+\n",
      "\n"
     ]
    }
   ],
   "source": [
    "# 2. Lista los títulos de los proyectos donde el rol principal fue “animador”.\n",
    "spark.sql(\"\"\"\n",
    "        SELECT titulo\n",
    "        FROM film\n",
    "        WHERE rol = \"animador\";\n",
    "\"\"\").show()\n",
    "\n"
   ]
  },
  {
   "cell_type": "code",
   "execution_count": 17,
   "id": "706b3287-2366-4386-abd6-f783199291e6",
   "metadata": {},
   "outputs": [
    {
     "name": "stdout",
     "output_type": "stream",
     "text": [
      "+------------------+\n",
      "|      avg_duracion|\n",
      "+------------------+\n",
      "|12.866666666666667|\n",
      "+------------------+\n",
      "\n"
     ]
    }
   ],
   "source": [
    "# 3. ¿Cuál es el promedio de duración (en minutos) de todos los proyectos?\n",
    "spark.sql(\"\"\"\n",
    "        SELECT AVG(duracion_min) AS avg_duracion\n",
    "        FROM film;\n",
    "\"\"\").show()\n"
   ]
  },
  {
   "cell_type": "code",
   "execution_count": 18,
   "id": "61387d3b-a926-4ca5-b23e-be6de2907f64",
   "metadata": {},
   "outputs": [
    {
     "name": "stdout",
     "output_type": "stream",
     "text": [
      "+---------+\n",
      "|ganadores|\n",
      "+---------+\n",
      "|        7|\n",
      "+---------+\n",
      "\n"
     ]
    }
   ],
   "source": [
    "# 4. ¿Cuántos proyectos han ganado algún premio?\n",
    "spark.sql(\"\"\"\n",
    "        SELECT COUNT(*) AS ganadores\n",
    "        FROM film\n",
    "        WHERE premio IS NOT NULL;\n",
    "\"\"\").show()\n"
   ]
  },
  {
   "cell_type": "code",
   "execution_count": 20,
   "id": "e03b550f-371a-4301-9fe1-dafee776debe",
   "metadata": {},
   "outputs": [
    {
     "name": "stdout",
     "output_type": "stream",
     "text": [
      "+-----------------+\n",
      "|presupuesto_total|\n",
      "+-----------------+\n",
      "|             5550|\n",
      "+-----------------+\n",
      "\n"
     ]
    }
   ],
   "source": [
    "# 5. ¿Cuál es el presupuesto total (en USD) de los proyectos donde el rol fue “editor”?\n",
    "spark.sql(\"\"\"\n",
    "        SELECT SUM(presupuesto_usd) AS presupuesto_total\n",
    "        FROM film\n",
    "        WHERE rol = \"editor\";\n",
    "\"\"\").show()\n"
   ]
  },
  {
   "cell_type": "code",
   "execution_count": 23,
   "id": "6622bbba-a844-489d-abdc-3ab711a1c735",
   "metadata": {},
   "outputs": [
    {
     "name": "stdout",
     "output_type": "stream",
     "text": [
      "+------------------+------------------+\n",
      "|            titulo|            premio|\n",
      "+------------------+------------------+\n",
      "|  Caminos Cruzados|Premio del Público|\n",
      "|Guion de Esperanza|Mención Honorífica|\n",
      "|   Luz de Invierno|Mejor Cortometraje|\n",
      "|       Ritmo y Luz|     Mejor Edición|\n",
      "|Rostros del Tiempo|   Premio Especial|\n",
      "|   Sueños de Acero|   Guion Destacado|\n",
      "|    Vértigo Urbano| Selección Oficial|\n",
      "+------------------+------------------+\n",
      "\n"
     ]
    }
   ],
   "source": [
    "# 6. Lista los títulos y premios de los proyectos que han ganado algún premio, ordenados alfabéticamente por título.\n",
    "spark.sql(\"\"\"\n",
    "        SELECT titulo, premio\n",
    "        FROM film\n",
    "        WHERE premio IS NOT NULL\n",
    "        ORDER BY titulo ASC;\n",
    "\"\"\").show()\n"
   ]
  },
  {
   "cell_type": "code",
   "execution_count": 27,
   "id": "36aa8e6c-9099-408e-a85e-e52c9694d928",
   "metadata": {},
   "outputs": [
    {
     "name": "stdout",
     "output_type": "stream",
     "text": [
      "+-----------------------+\n",
      "|proyectos_final_cut_pro|\n",
      "+-----------------------+\n",
      "|                     12|\n",
      "+-----------------------+\n",
      "\n"
     ]
    }
   ],
   "source": [
    "# 7. ¿Cuántos proyectos usaron “Final Cut Pro” como herramienta principal?\n",
    "spark.sql(\"\"\"\n",
    "        SELECT  COUNT(*) AS proyectos_final_cut_pro\n",
    "        FROM film\n",
    "        WHERE herramienta = \"Final Cut Pro\";\n",
    "\"\"\").show()\n"
   ]
  },
  {
   "cell_type": "code",
   "execution_count": 31,
   "id": "24038b59-d400-4f65-8ba2-8cc52d04b570",
   "metadata": {},
   "outputs": [
    {
     "name": "stdout",
     "output_type": "stream",
     "text": [
      "+----------------+------------+\n",
      "|          titulo|duracion_min|\n",
      "+----------------+------------+\n",
      "|Caminos Cruzados|          22|\n",
      "+----------------+------------+\n",
      "\n"
     ]
    }
   ],
   "source": [
    "# 8. ¿Cuál es el proyecto con mayor duración?\n",
    "spark.sql(\"\"\"\n",
    "        SELECT titulo, duracion_min\n",
    "        FROM film\n",
    "        ORDER BY duracion_min DESC\n",
    "        LIMIT 1;\n",
    "\"\"\").show()\n"
   ]
  },
  {
   "cell_type": "code",
   "execution_count": 33,
   "id": "7cbc636b-9049-4990-8da2-d7be490bed33",
   "metadata": {},
   "outputs": [
    {
     "name": "stdout",
     "output_type": "stream",
     "text": [
      "+---------------------+\n",
      "|menor_a_500_no_premio|\n",
      "+---------------------+\n",
      "|                    5|\n",
      "+---------------------+\n",
      "\n"
     ]
    }
   ],
   "source": [
    "# 9. ¿Cuántos proyectos tienen un presupuesto menor a $500 USD y no han ganado premio?\n",
    "spark.sql(\"\"\"\n",
    "        SELECT COUNT(*) AS menor_a_500_no_premio\n",
    "        FROM film\n",
    "        WHERE presupuesto_usd < 500 and premio IS NULL;\n",
    "\"\"\").show()\n"
   ]
  },
  {
   "cell_type": "code",
   "execution_count": 35,
   "id": "4b3a9537-392a-499a-9c5e-cff95b1adba3",
   "metadata": {},
   "outputs": [
    {
     "name": "stdout",
     "output_type": "stream",
     "text": [
      "+---------+\n",
      "|    roles|\n",
      "+---------+\n",
      "| animador|\n",
      "|colorista|\n",
      "| director|\n",
      "|   editor|\n",
      "|guionista|\n",
      "+---------+\n",
      "\n"
     ]
    }
   ],
   "source": [
    "# 10. ¿Cuáles son los diferentes roles que aparecen en la base de datos?\n",
    "spark.sql(\"\"\"\n",
    "        SELECT DISTINCT(rol) as roles\n",
    "        FROM film\n",
    "        ORDER BY roles ASC;\n",
    "\"\"\").show()"
   ]
  },
  {
   "cell_type": "code",
   "execution_count": null,
   "id": "fc78d11c-04e3-4132-b379-a3db623561da",
   "metadata": {},
   "outputs": [],
   "source": []
  }
 ],
 "metadata": {
  "kernelspec": {
   "display_name": "Python 3 (ipykernel)",
   "language": "python",
   "name": "python3"
  },
  "language_info": {
   "codemirror_mode": {
    "name": "ipython",
    "version": 3
   },
   "file_extension": ".py",
   "mimetype": "text/x-python",
   "name": "python",
   "nbconvert_exporter": "python",
   "pygments_lexer": "ipython3",
   "version": "3.10.16"
  }
 },
 "nbformat": 4,
 "nbformat_minor": 5
}
