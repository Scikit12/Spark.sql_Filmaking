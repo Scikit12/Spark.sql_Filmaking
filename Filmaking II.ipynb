{
 "cells": [
  {
   "cell_type": "code",
   "execution_count": 1,
   "id": "0dca3cdd-0e47-4f55-b2d3-b9c1701909f7",
   "metadata": {},
   "outputs": [
    {
     "name": "stderr",
     "output_type": "stream",
     "text": [
      "Setting default log level to \"WARN\".\n",
      "To adjust logging level use sc.setLogLevel(newLevel). For SparkR, use setLogLevel(newLevel).\n",
      "25/04/23 19:33:20 WARN NativeCodeLoader: Unable to load native-hadoop library for your platform... using builtin-java classes where applicable\n",
      "25/04/23 19:33:22 WARN Utils: Service 'SparkUI' could not bind on port 4040. Attempting port 4041.\n",
      "                                                                                "
     ]
    },
    {
     "name": "stdout",
     "output_type": "stream",
     "text": [
      "+------------+---------------+---+------------------+---------------+---------+--------------------+\n",
      "|duracion_min|    herramienta| id|            premio|presupuesto_usd|      rol|              titulo|\n",
      "+------------+---------------+---+------------------+---------------+---------+--------------------+\n",
      "|          15|  Final Cut Pro|  1|Mejor Cortometraje|           1200| director|     Luz de Invierno|\n",
      "|           8|DaVinci Resolve|  2|              NULL|            500|   editor|      Café y Sombras|\n",
      "|          12|DaVinci Resolve|  3|              NULL|            800|colorista|     El Último Pixel|\n",
      "|          20|    Final Draft|  4|   Guion Destacado|           1500|guionista|     Sueños de Acero|\n",
      "|          10|  Final Cut Pro|  5|              NULL|            900| director|     Ráfaga Nocturna|\n",
      "|           7| Adobe Premiere|  6|              NULL|            400|   editor|          Fragmentos|\n",
      "|          18|  Final Cut Pro|  7| Selección Oficial|           2000| director|      Vértigo Urbano|\n",
      "|          14|          Celtx|  8|              NULL|            600|guionista|Códigos en la Niebla|\n",
      "|           9|  Final Cut Pro|  9|              NULL|            700|   editor|   Latidos Digitales|\n",
      "|          16|    Final Draft| 10|              NULL|           1100|guionista|  Horizonte de Papel|\n",
      "|          22|  Final Cut Pro| 11|Premio del Público|           2500| director|    Caminos Cruzados|\n",
      "|          11| Adobe Premiere| 12|              NULL|            650|   editor|   Ecos del Silencio|\n",
      "|          13|          Celtx| 13|              NULL|            900|guionista|      Bitácora Lunar|\n",
      "|           6|       Motion 5| 14|              NULL|            300| animador|Sombras en Movimi...|\n",
      "|          19|  Final Cut Pro| 15|     Mejor Edición|           1800| director|         Ritmo y Luz|\n",
      "|           8|DaVinci Resolve| 16|              NULL|            550|   editor|     Círculo Abierto|\n",
      "|          17|    Final Draft| 17|              NULL|           1200|guionista|   Voces del Asfalto|\n",
      "|          21|  Final Cut Pro| 18|              NULL|           2100| director|  Laberinto de Ideas|\n",
      "|           5|       Motion 5| 19|              NULL|            250| animador|       Pixel a Pixel|\n",
      "|          12|  Final Cut Pro| 20|              NULL|            800|   editor|    Notas en el Aire|\n",
      "|          14|  Final Cut Pro| 21|              NULL|           1300| director|      Caminos de Luz|\n",
      "|          10|          Celtx| 22|              NULL|            500|guionista|     Guion Invisible|\n",
      "|           9| Adobe Premiere| 23|              NULL|            600|   editor|    Croma y Realidad|\n",
      "|          20|  Final Cut Pro| 24|   Premio Especial|           1700| director|  Rostros del Tiempo|\n",
      "|           7|DaVinci Resolve| 25|              NULL|            450|   editor|   Secuencia Alterna|\n",
      "|          15|    Final Draft| 26|              NULL|           1000|guionista| Guion de Medianoche|\n",
      "|          18|  Final Cut Pro| 27|              NULL|           1600| director|     Luces y Sombras|\n",
      "|           6|       Motion 5| 28|              NULL|            350| animador|     Animación Fugaz|\n",
      "|          13|  Final Cut Pro| 29|              NULL|            900|   editor|         Corte Final|\n",
      "|          11|          Celtx| 30|Mención Honorífica|            700|guionista|  Guion de Esperanza|\n",
      "+------------+---------------+---+------------------+---------------+---------+--------------------+\n",
      "\n",
      "root\n",
      " |-- duracion_min: long (nullable = true)\n",
      " |-- herramienta: string (nullable = true)\n",
      " |-- id: long (nullable = true)\n",
      " |-- premio: string (nullable = true)\n",
      " |-- presupuesto_usd: long (nullable = true)\n",
      " |-- rol: string (nullable = true)\n",
      " |-- titulo: string (nullable = true)\n",
      "\n"
     ]
    }
   ],
   "source": [
    "from pyspark.sql import SparkSession\n",
    "\n",
    "spark = SparkSession.builder.appName(\"Cafe_II\").getOrCreate()\n",
    "cafe_df = spark.read.json(\"filmaking.json\")\n",
    "cafe_df.createOrReplaceTempView(\"filmaking\")\n",
    "\n",
    "cafe_df.show(30)\n",
    "cafe_df.printSchema()\n",
    "       "
   ]
  },
  {
   "cell_type": "code",
   "execution_count": 5,
   "id": "e2e40993-6890-4c22-a50f-ddef779698af",
   "metadata": {},
   "outputs": [
    {
     "name": "stdout",
     "output_type": "stream",
     "text": [
      "+--------+\n",
      "|count(1)|\n",
      "+--------+\n",
      "|      15|\n",
      "+--------+\n",
      "\n"
     ]
    }
   ],
   "source": [
    "# 1. ¿Cuántos proyectos tienen una duración mayor al promedio de todos los proyectos?\n",
    "spark.sql(\"\"\" \n",
    "            SELECT COUNT(*)  \n",
    "            FROM filmaking \n",
    "            WHERE duracion_min > (SELECT AVG(duracion_min) FROM filmaking);\n",
    "\"\"\").show()"
   ]
  },
  {
   "cell_type": "code",
   "execution_count": 13,
   "id": "a42fab38-0110-44c7-a6b0-fc93b72e9713",
   "metadata": {},
   "outputs": [
    {
     "name": "stdout",
     "output_type": "stream",
     "text": [
      "+------------------+------------------+\n",
      "|            titulo|            premio|\n",
      "+------------------+------------------+\n",
      "|Guion de Esperanza|Mención Honorífica|\n",
      "|   Luz de Invierno|Mejor Cortometraje|\n",
      "|   Sueños de Acero|   Guion Destacado|\n",
      "+------------------+------------------+\n",
      "\n"
     ]
    }
   ],
   "source": [
    "# 2. Lista los títulos de los proyectos que han ganado premio y \n",
    "# cuyo presupuesto es menor al presupuesto promedio de todos los proyectos premiados.\n",
    "spark.sql(\"\"\" \n",
    "            SELECT titulo, premio\n",
    "            FROM filmaking\n",
    "            WHERE presupuesto_usd < (SELECT AVG(presupuesto_usd) FROM filmaking WHERE premio IS NOT NULL) AND premio IS NOT NULL\n",
    "            ORDER BY titulo ASC;\n",
    "\"\"\").show()"
   ]
  },
  {
   "cell_type": "code",
   "execution_count": 17,
   "id": "3ebf6b03-af08-4bac-9b76-4e7e4f595407",
   "metadata": {},
   "outputs": [
    {
     "name": "stdout",
     "output_type": "stream",
     "text": [
      "+---------+-------------------+\n",
      "|      rol|veces_que_se_repite|\n",
      "+---------+-------------------+\n",
      "|guionista|                  8|\n",
      "+---------+-------------------+\n",
      "\n"
     ]
    }
   ],
   "source": [
    "# ¿Cuál es el rol que más veces aparece en la base de datos?\n",
    "spark.sql(\"\"\" \n",
    "            SELECT rol, COUNT(*) AS veces_que_se_repite\n",
    "            FROM filmaking\n",
    "            GROUP BY rol\n",
    "            ORDER BY rol DESC\n",
    "            LIMIT 1;\n",
    "\"\"\").show()"
   ]
  },
  {
   "cell_type": "code",
   "execution_count": 20,
   "id": "98d10caa-cb9b-4a3b-9630-2b4718c53ea3",
   "metadata": {},
   "outputs": [
    {
     "name": "stdout",
     "output_type": "stream",
     "text": [
      "+---------------+-------------+\n",
      "|         titulo|  herramienta|\n",
      "+---------------+-------------+\n",
      "|Luz de Invierno|Final Cut Pro|\n",
      "|    Ritmo y Luz|Final Cut Pro|\n",
      "| Caminos de Luz|Final Cut Pro|\n",
      "+---------------+-------------+\n",
      "\n"
     ]
    }
   ],
   "source": [
    "# 4. Muestra el título y la herramienta de los proyectos cuyo título contiene la palabra \"Luz\" (sin importar mayúsculas/minúsculas).\n",
    "spark.sql(\"\"\" \n",
    "            SELECT titulo, herramienta\n",
    "            FROM filmaking\n",
    "            WHERE LOWER(titulo) LIKE \"%luz%\";\n",
    "\"\"\").show()"
   ]
  },
  {
   "cell_type": "code",
   "execution_count": 21,
   "id": "6124822d-a1fb-4c18-ab4e-dc2e278bd44e",
   "metadata": {},
   "outputs": [
    {
     "name": "stdout",
     "output_type": "stream",
     "text": [
      "+------------------------------------+\n",
      "|proyectos_entre_500_y_1500_inclusive|\n",
      "+------------------------------------+\n",
      "|                                  19|\n",
      "+------------------------------------+\n",
      "\n"
     ]
    }
   ],
   "source": [
    "# 5. ¿Cuántos proyectos tienen un presupuesto entre $500 y $1500 USD (incluyendo ambos extremos)?\n",
    "spark.sql(\"\"\" \n",
    "            SELECT COUNT(*) AS proyectos_entre_500_y_1500_inclusive\n",
    "            FROM filmaking\n",
    "            WHERE presupuesto_usd BETWEEN 500 AND 1500          \n",
    "\"\"\").show()"
   ]
  },
  {
   "cell_type": "code",
   "execution_count": 22,
   "id": "cf4685c9-078d-4e1e-9e32-43ea3b7dbfd7",
   "metadata": {},
   "outputs": [
    {
     "name": "stdout",
     "output_type": "stream",
     "text": [
      "+------------------+\n",
      "| promedio_duracion|\n",
      "+------------------+\n",
      "|11.347826086956522|\n",
      "+------------------+\n",
      "\n"
     ]
    }
   ],
   "source": [
    "# 6. ¿Cuál es el promedio de duración de los proyectos que no han ganado ningún premio?\n",
    "spark.sql(\"\"\" \n",
    "            SELECT AVG(duracion_min) AS promedio_duracion\n",
    "            FROM filmaking\n",
    "            WHERE premio IS NULL;\n",
    "\"\"\").show()"
   ]
  },
  {
   "cell_type": "code",
   "execution_count": 24,
   "id": "d5e0a27c-f09c-4e7c-9bc0-cc51166cd4a0",
   "metadata": {},
   "outputs": [
    {
     "name": "stdout",
     "output_type": "stream",
     "text": [
      "+------------------+\n",
      "|            titulo|\n",
      "+------------------+\n",
      "|   Sueños de Acero|\n",
      "|Horizonte de Papel|\n",
      "| Voces del Asfalto|\n",
      "+------------------+\n",
      "\n"
     ]
    }
   ],
   "source": [
    "# 7. Lista los títulos de los proyectos cuyo rol es “guionista” y que tienen una duración mayor a 15 minutos.\n",
    "spark.sql(\"\"\" \n",
    "            SELECT titulo\n",
    "            FROM filmaking\n",
    "            WHERE rol = \"guionista\" and duracion_min > 15;\n",
    "\"\"\").show()"
   ]
  },
  {
   "cell_type": "code",
   "execution_count": 30,
   "id": "6db333ca-6324-495f-97b2-2cc4934751a5",
   "metadata": {},
   "outputs": [
    {
     "name": "stdout",
     "output_type": "stream",
     "text": [
      "+--------+\n",
      "|Motion_5|\n",
      "+--------+\n",
      "|       3|\n",
      "+--------+\n",
      "\n"
     ]
    }
   ],
   "source": [
    "# 8. ¿Cuántos proyectos usan “Motion 5” y tienen una duración menor o igual a 6 minutos?\n",
    "spark.sql(\"\"\" \n",
    "            SELECT COUNT (*) AS Motion_5\n",
    "            FROM filmaking\n",
    "            WHERE herramienta = \"Motion 5\" and duracion_min <= 6;\n",
    "\"\"\").show()"
   ]
  },
  {
   "cell_type": "code",
   "execution_count": 28,
   "id": "29c2f752-127e-400f-be6b-9591b7ff0c29",
   "metadata": {},
   "outputs": [
    {
     "name": "stdout",
     "output_type": "stream",
     "text": [
      "+------------------+---------------+\n",
      "|            titulo|presupuesto_usd|\n",
      "+------------------+---------------+\n",
      "|  Caminos Cruzados|           2500|\n",
      "|Laberinto de Ideas|           2100|\n",
      "|    Vértigo Urbano|           2000|\n",
      "+------------------+---------------+\n",
      "\n"
     ]
    }
   ],
   "source": [
    "# 9. Muestra el título y presupuesto de los tres proyectos más caros.\n",
    "spark.sql(\"\"\" \n",
    "            SELECT titulo, presupuesto_usd\n",
    "            FROM filmaking\n",
    "            ORDER BY presupuesto_usd DESC\n",
    "            LIMIT 3;\n",
    "\"\"\").show()"
   ]
  },
  {
   "cell_type": "code",
   "execution_count": 33,
   "id": "a5895564-26f1-4e0d-b831-3f06b4c1842c",
   "metadata": {},
   "outputs": [
    {
     "name": "stdout",
     "output_type": "stream",
     "text": [
      "+--------------------+\n",
      "|palabra_guion_inside|\n",
      "+--------------------+\n",
      "|                   1|\n",
      "+--------------------+\n",
      "\n"
     ]
    }
   ],
   "source": [
    "# 10. ¿Cuántos proyectos tienen la palabra “Guion” en el título y han ganado algún premio?\n",
    "spark.sql(\"\"\" \n",
    "            SELECT COUNT(*) AS palabra_guion_inside\n",
    "            FROM filmaking\n",
    "            WHERE LOWER (titulo) LIKE \"%guion%\" and premio IS NOT NULL;\n",
    "\"\"\").show()"
   ]
  },
  {
   "cell_type": "code",
   "execution_count": 40,
   "id": "d80fa9bd-3d07-464e-a8e4-4e7627f9b760",
   "metadata": {},
   "outputs": [
    {
     "name": "stdout",
     "output_type": "stream",
     "text": [
      "+---------+---------------+\n",
      "|      rol|total_proyectos|\n",
      "+---------+---------------+\n",
      "| director|              9|\n",
      "|   editor|              9|\n",
      "|guionista|              8|\n",
      "+---------+---------------+\n",
      "\n"
     ]
    }
   ],
   "source": [
    "spark.sql(\"\"\" \n",
    "SELECT rol, COUNT(*) as total_proyectos\n",
    "FROM filmaking\n",
    "GROUP BY rol\n",
    "HAVING COUNT(*) > 3;\n",
    "\"\"\").show()"
   ]
  },
  {
   "cell_type": "code",
   "execution_count": null,
   "id": "7d4c1694-280b-4d30-8468-558147d5ba3b",
   "metadata": {},
   "outputs": [],
   "source": []
  }
 ],
 "metadata": {
  "kernelspec": {
   "display_name": "Python 3 (ipykernel)",
   "language": "python",
   "name": "python3"
  },
  "language_info": {
   "codemirror_mode": {
    "name": "ipython",
    "version": 3
   },
   "file_extension": ".py",
   "mimetype": "text/x-python",
   "name": "python",
   "nbconvert_exporter": "python",
   "pygments_lexer": "ipython3",
   "version": "3.10.16"
  }
 },
 "nbformat": 4,
 "nbformat_minor": 5
}
